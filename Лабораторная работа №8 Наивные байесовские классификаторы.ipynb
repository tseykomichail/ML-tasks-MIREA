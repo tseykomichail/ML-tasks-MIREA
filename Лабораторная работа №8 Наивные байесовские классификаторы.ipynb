{
 "cells": [
  {
   "cell_type": "markdown",
   "id": "085121d4",
   "metadata": {},
   "source": [
    "Данная лабораторная работа ориентирована на знакомство с вероятностными подходами для моделей машинного обучения на примере реализации наивных байесовских классификаторов на языке программирования Python:\n",
    "\n",
    "Для пользовательских и/или модельных данных реализовать Гауссовский наивный байесовский классификатор.\n",
    "Для несбалансированных пользовательских и/или модельных данных реализовать дополненный наивный байесовский классификатор.\n",
    "Для пользовательских и/или модельных данных реализовать мультиномиальный наивный байесовский классификатор.\n",
    "Для пользовательских и/или модельных данных реализовать наивный байесовский классификатор Бернулли."
   ]
  },
  {
   "cell_type": "code",
   "execution_count": 44,
   "id": "5af43561",
   "metadata": {},
   "outputs": [
    {
     "name": "stdout",
     "output_type": "stream",
     "text": [
      "0.96\n"
     ]
    }
   ],
   "source": [
    "from sklearn.datasets import load_iris\n",
    "from sklearn.model_selection import train_test_split\n",
    "from sklearn.naive_bayes import GaussianNB\n",
    "from sklearn.metrics import accuracy_score\n",
    "#Для Гауссовского наивного байесовского классификатора взял датасет Ирисы Фишера, поскольку предполагал, что\n",
    "#физические характеристики   растений(например, Ширина наружной доли околоцветника) имеют нормальное распределение\n",
    "X, y = load_iris(return_X_y=True)\n",
    "X_train, X_test, y_train, y_test = train_test_split(X, y, test_size=0.33, random_state=0, stratify=y)\n",
    "gnb = GaussianNB()\n",
    "y_pred = gnb.fit(X_train, y_train).predict(X_test)\n",
    "print(accuracy_score(y_pred, y_test))"
   ]
  },
  {
   "cell_type": "code",
   "execution_count": 45,
   "id": "88aaf154",
   "metadata": {},
   "outputs": [
    {
     "data": {
      "text/html": [
       "<div>\n",
       "<style scoped>\n",
       "    .dataframe tbody tr th:only-of-type {\n",
       "        vertical-align: middle;\n",
       "    }\n",
       "\n",
       "    .dataframe tbody tr th {\n",
       "        vertical-align: top;\n",
       "    }\n",
       "\n",
       "    .dataframe thead th {\n",
       "        text-align: right;\n",
       "    }\n",
       "</style>\n",
       "<table border=\"1\" class=\"dataframe\">\n",
       "  <thead>\n",
       "    <tr style=\"text-align: right;\">\n",
       "      <th></th>\n",
       "      <th>0</th>\n",
       "      <th>1</th>\n",
       "      <th>2</th>\n",
       "      <th>3</th>\n",
       "    </tr>\n",
       "  </thead>\n",
       "  <tbody>\n",
       "    <tr>\n",
       "      <th>0</th>\n",
       "      <td>5.1</td>\n",
       "      <td>3.5</td>\n",
       "      <td>1.4</td>\n",
       "      <td>0.2</td>\n",
       "    </tr>\n",
       "    <tr>\n",
       "      <th>1</th>\n",
       "      <td>4.9</td>\n",
       "      <td>3.0</td>\n",
       "      <td>1.4</td>\n",
       "      <td>0.2</td>\n",
       "    </tr>\n",
       "    <tr>\n",
       "      <th>2</th>\n",
       "      <td>4.7</td>\n",
       "      <td>3.2</td>\n",
       "      <td>1.3</td>\n",
       "      <td>0.2</td>\n",
       "    </tr>\n",
       "    <tr>\n",
       "      <th>3</th>\n",
       "      <td>4.6</td>\n",
       "      <td>3.1</td>\n",
       "      <td>1.5</td>\n",
       "      <td>0.2</td>\n",
       "    </tr>\n",
       "    <tr>\n",
       "      <th>4</th>\n",
       "      <td>5.0</td>\n",
       "      <td>3.6</td>\n",
       "      <td>1.4</td>\n",
       "      <td>0.2</td>\n",
       "    </tr>\n",
       "  </tbody>\n",
       "</table>\n",
       "</div>"
      ],
      "text/plain": [
       "     0    1    2    3\n",
       "0  5.1  3.5  1.4  0.2\n",
       "1  4.9  3.0  1.4  0.2\n",
       "2  4.7  3.2  1.3  0.2\n",
       "3  4.6  3.1  1.5  0.2\n",
       "4  5.0  3.6  1.4  0.2"
      ]
     },
     "execution_count": 45,
     "metadata": {},
     "output_type": "execute_result"
    }
   ],
   "source": [
    "import pandas as pd\n",
    "X=pd.DataFrame(X)\n",
    "X.head()"
   ]
  },
  {
   "cell_type": "code",
   "execution_count": 46,
   "id": "24f55489",
   "metadata": {},
   "outputs": [],
   "source": [
    "#Построим распределения признаков, чтобы убедиться, что признаки распределены номрально\n",
    "X=X.to_numpy()\n",
    "first=X[:, 0]\n",
    "second=X[:, 1]\n",
    "third=X[:, 2]\n",
    "fourth=X[:, 3]"
   ]
  },
  {
   "cell_type": "code",
   "execution_count": 47,
   "id": "b9a1cbc7",
   "metadata": {},
   "outputs": [
    {
     "data": {
      "image/png": "[encoded data removed]",
      "text/plain": [
       "<Figure size 432x288 with 1 Axes>"
      ]
     },
     "metadata": {
      "needs_background": "light"
     },
     "output_type": "display_data"
    }
   ],
   "source": [
    "import matplotlib.pyplot as plt\n",
    "plt.hist(first, bins=9, density=True, alpha=0.5, color='b', edgecolor='black')\n",
    "plt.title('Распределение переменной')\n",
    "plt.xlabel('Значение переменной')\n",
    "plt.ylabel('Частота')\n",
    "plt.show()"
   ]
  },
  {
   "cell_type": "code",
   "execution_count": 48,
   "id": "f1ac44e6",
   "metadata": {},
   "outputs": [
    {
     "data": {
      "image/png": "[encoded data removed]",
      "text/plain": [
       "<Figure size 432x288 with 1 Axes>"
      ]
     },
     "metadata": {
      "needs_background": "light"
     },
     "output_type": "display_data"
    }
   ],
   "source": [
    "plt.hist(second, bins=9, density=True, alpha=0.5, color='b', edgecolor='black')\n",
    "plt.title('Распределение переменной')\n",
    "plt.xlabel('Значение переменной')\n",
    "plt.ylabel('Частота')\n",
    "plt.show()"
   ]
  },
  {
   "cell_type": "code",
   "execution_count": 51,
   "id": "10eda568",
   "metadata": {},
   "outputs": [
    {
     "data": {
      "image/png": "[encoded data removed]",
      "text/plain": [
       "<Figure size 432x288 with 1 Axes>"
      ]
     },
     "metadata": {
      "needs_background": "light"
     },
     "output_type": "display_data"
    }
   ],
   "source": [
    "plt.hist(third, bins=20, density=True, alpha=0.5, color='b', edgecolor='black')\n",
    "plt.title('Распределение переменной')\n",
    "plt.xlabel('Значение переменной')\n",
    "plt.ylabel('Частота')\n",
    "plt.show()"
   ]
  },
  {
   "cell_type": "code",
   "execution_count": 55,
   "id": "d63d99d7",
   "metadata": {},
   "outputs": [
    {
     "data": {
      "image/png": "[encoded data removed]",
      "text/plain": [
       "<Figure size 432x288 with 1 Axes>"
      ]
     },
     "metadata": {
      "needs_background": "light"
     },
     "output_type": "display_data"
    }
   ],
   "source": [
    "plt.hist(fourth, bins=12, density=True, alpha=0.5, color='b', edgecolor='black')\n",
    "plt.title('Распределение переменной')\n",
    "plt.xlabel('Значение переменной')\n",
    "plt.ylabel('Частота')\n",
    "plt.show()"
   ]
  },
  {
   "cell_type": "code",
   "execution_count": 43,
   "id": "236152a1",
   "metadata": {},
   "outputs": [
    {
     "name": "stdout",
     "output_type": "stream",
     "text": [
      "0.7\n"
     ]
    }
   ],
   "source": [
    "#У последних двух фичей присутствует еще один колокол, что неудивительно, ведь в датасете разные классы, и у разных растений\n",
    "#могут быть разные характеристики\n",
    "X=X[:, 0:2]\n",
    "X_train, X_test, y_train, y_test = train_test_split(X, y, test_size=0.33, random_state=0, stratify=y)\n",
    "gnb = GaussianNB()\n",
    "y_pred = gnb.fit(X_train, y_train).predict(X_test)\n",
    "print(accuracy_score(y_pred, y_test))"
   ]
  },
  {
   "cell_type": "code",
   "execution_count": 38,
   "id": "35888c8a",
   "metadata": {},
   "outputs": [],
   "source": [
    "from random import random #генерирует псевдослучайное число от 0 до 1\n",
    "#Для мультиномиального классификатора было сложно найти реальный датасет, в котором бы признаки были частотами, поэтому \n",
    "#я решил смоделировать бросание двух монет: первая монета - правильная(отмечена классом 1, вероятность выпадения \n",
    "#нуля и единицы равны 0,5), вторая - неправильная(класс - 0, вероятность выпадения нуля равна 0,6). В каждом испытании проводится\n",
    "# c бросков. Таким образом, у объекта два признака - количество выпавших нулей и количество выпавших единиц. \n",
    "#Задача - определить какой из двух монет(генераторов) производили подбрасывание.\n",
    "#Функция для генерации выборки \n",
    "def generate_X_y(a, b, c) : #a-количество испытаний для правильного генератора, b-для неправильного, c-количество бросков в одном  испытании\n",
    "    X=[]\n",
    "    y=[]\n",
    "    for i in range(a) :\n",
    "        zeros=0\n",
    "        ones=0\n",
    "        for j in range(c) :\n",
    "            if random()>=0.5 :\n",
    "                ones+=1\n",
    "            else :\n",
    "                zeros+=1\n",
    "        X.append([zeros, ones])\n",
    "        y.append(1)\n",
    "    for i in range(b) :\n",
    "        zeros=0\n",
    "        ones=0\n",
    "        for j in range(c) :\n",
    "            if random()>=0.6 :\n",
    "                ones+=1\n",
    "            else :\n",
    "                zeros+=1\n",
    "        X.append([zeros, ones])\n",
    "        y.append(0)\n",
    "    X=pd.DataFrame(X)\n",
    "    y=pd.DataFrame(y)\n",
    "    return X, y"
   ]
  },
  {
   "cell_type": "code",
   "execution_count": 39,
   "id": "3e820c30",
   "metadata": {},
   "outputs": [
    {
     "data": {
      "text/html": [
       "<div>\n",
       "<style scoped>\n",
       "    .dataframe tbody tr th:only-of-type {\n",
       "        vertical-align: middle;\n",
       "    }\n",
       "\n",
       "    .dataframe tbody tr th {\n",
       "        vertical-align: top;\n",
       "    }\n",
       "\n",
       "    .dataframe thead th {\n",
       "        text-align: right;\n",
       "    }\n",
       "</style>\n",
       "<table border=\"1\" class=\"dataframe\">\n",
       "  <thead>\n",
       "    <tr style=\"text-align: right;\">\n",
       "      <th></th>\n",
       "      <th>0</th>\n",
       "      <th>1</th>\n",
       "    </tr>\n",
       "  </thead>\n",
       "  <tbody>\n",
       "    <tr>\n",
       "      <th>0</th>\n",
       "      <td>10</td>\n",
       "      <td>10</td>\n",
       "    </tr>\n",
       "    <tr>\n",
       "      <th>1</th>\n",
       "      <td>13</td>\n",
       "      <td>7</td>\n",
       "    </tr>\n",
       "    <tr>\n",
       "      <th>2</th>\n",
       "      <td>8</td>\n",
       "      <td>12</td>\n",
       "    </tr>\n",
       "    <tr>\n",
       "      <th>3</th>\n",
       "      <td>9</td>\n",
       "      <td>11</td>\n",
       "    </tr>\n",
       "    <tr>\n",
       "      <th>4</th>\n",
       "      <td>8</td>\n",
       "      <td>12</td>\n",
       "    </tr>\n",
       "  </tbody>\n",
       "</table>\n",
       "</div>"
      ],
      "text/plain": [
       "    0   1\n",
       "0  10  10\n",
       "1  13   7\n",
       "2   8  12\n",
       "3   9  11\n",
       "4   8  12"
      ]
     },
     "execution_count": 39,
     "metadata": {},
     "output_type": "execute_result"
    }
   ],
   "source": [
    "#Пример выборки. У первого объекта датасета 10 раз выпала единица и 10 раз выпал ноль.\n",
    "X, y=generate_X_y(500, 500, 20)\n",
    "X.head()"
   ]
  },
  {
   "cell_type": "code",
   "execution_count": 40,
   "id": "70d8238d",
   "metadata": {},
   "outputs": [
    {
     "data": {
      "text/html": [
       "<div>\n",
       "<style scoped>\n",
       "    .dataframe tbody tr th:only-of-type {\n",
       "        vertical-align: middle;\n",
       "    }\n",
       "\n",
       "    .dataframe tbody tr th {\n",
       "        vertical-align: top;\n",
       "    }\n",
       "\n",
       "    .dataframe thead th {\n",
       "        text-align: right;\n",
       "    }\n",
       "</style>\n",
       "<table border=\"1\" class=\"dataframe\">\n",
       "  <thead>\n",
       "    <tr style=\"text-align: right;\">\n",
       "      <th></th>\n",
       "      <th>0</th>\n",
       "    </tr>\n",
       "  </thead>\n",
       "  <tbody>\n",
       "    <tr>\n",
       "      <th>0</th>\n",
       "      <td>1</td>\n",
       "    </tr>\n",
       "    <tr>\n",
       "      <th>1</th>\n",
       "      <td>1</td>\n",
       "    </tr>\n",
       "    <tr>\n",
       "      <th>2</th>\n",
       "      <td>1</td>\n",
       "    </tr>\n",
       "    <tr>\n",
       "      <th>3</th>\n",
       "      <td>1</td>\n",
       "    </tr>\n",
       "    <tr>\n",
       "      <th>4</th>\n",
       "      <td>1</td>\n",
       "    </tr>\n",
       "  </tbody>\n",
       "</table>\n",
       "</div>"
      ],
      "text/plain": [
       "   0\n",
       "0  1\n",
       "1  1\n",
       "2  1\n",
       "3  1\n",
       "4  1"
      ]
     },
     "execution_count": 40,
     "metadata": {},
     "output_type": "execute_result"
    }
   ],
   "source": [
    "y.head()"
   ]
  },
  {
   "cell_type": "code",
   "execution_count": 57,
   "id": "7ea73658",
   "metadata": {},
   "outputs": [
    {
     "name": "stderr",
     "output_type": "stream",
     "text": [
      "C:\\Users\\Алекхаил\\AppData\\Roaming\\Python\\Python39\\site-packages\\sklearn\\utils\\validation.py:1183: DataConversionWarning: A column-vector y was passed when a 1d array was expected. Please change the shape of y to (n_samples, ), for example using ravel().\n",
      "  y = column_or_1d(y, warn=True)\n",
      "C:\\Users\\Алекхаил\\AppData\\Roaming\\Python\\Python39\\site-packages\\sklearn\\utils\\validation.py:1183: DataConversionWarning: A column-vector y was passed when a 1d array was expected. Please change the shape of y to (n_samples, ), for example using ravel().\n",
      "  y = column_or_1d(y, warn=True)\n",
      "C:\\Users\\Алекхаил\\AppData\\Roaming\\Python\\Python39\\site-packages\\sklearn\\utils\\validation.py:1183: DataConversionWarning: A column-vector y was passed when a 1d array was expected. Please change the shape of y to (n_samples, ), for example using ravel().\n",
      "  y = column_or_1d(y, warn=True)\n",
      "C:\\Users\\Алекхаил\\AppData\\Roaming\\Python\\Python39\\site-packages\\sklearn\\utils\\validation.py:1183: DataConversionWarning: A column-vector y was passed when a 1d array was expected. Please change the shape of y to (n_samples, ), for example using ravel().\n",
      "  y = column_or_1d(y, warn=True)\n",
      "C:\\Users\\Алекхаил\\AppData\\Roaming\\Python\\Python39\\site-packages\\sklearn\\utils\\validation.py:1183: DataConversionWarning: A column-vector y was passed when a 1d array was expected. Please change the shape of y to (n_samples, ), for example using ravel().\n",
      "  y = column_or_1d(y, warn=True)\n"
     ]
    },
    {
     "name": "stdout",
     "output_type": "stream",
     "text": [
      "accuracy=0.603  эталонная точность=0.603   количество бросков в одном испытании=10\n",
      "accuracy=0.673  эталонная точность=0.663   количество бросков в одном испытании=20\n",
      "accuracy=0.830  эталонная точность=0.823   количество бросков в одном испытании=100\n",
      "accuracy=0.967  эталонная точность=0.967   количество бросков в одном испытании=300\n",
      "accuracy=0.997  эталонная точность=0.997   количество бросков в одном испытании=600\n"
     ]
    }
   ],
   "source": [
    "import numpy as np\n",
    "#Для сравнения также написал \"эталонный\" классификатор - классификатор, который считает процент выпавших нулей у объекта\n",
    "#И в случае, если он выше 0,55 предсказывает класс 0, в противном случае - класс 1.\n",
    "def etalon(X) :\n",
    "    predicted=[]\n",
    "    X=X.to_numpy()\n",
    "    for x in X :\n",
    "        if x[0]/(x[0]+x[1])>=0.55 :\n",
    "            predicted.append(0)\n",
    "        else :\n",
    "            predicted.append(1)\n",
    "    return predicted\n",
    "from sklearn.naive_bayes import MultinomialNB\n",
    "from sklearn.metrics import accuracy_score\n",
    "number_of_trials=[10, 20, 100, 300, 600]\n",
    "for c in number_of_trials :\n",
    "    X, y=generate_X_y(500, 500, c)\n",
    "    X_train, X_test, y_train, y_test = train_test_split(X, y, test_size=0.3, random_state=0, stratify=y)\n",
    "    clf = MultinomialNB()\n",
    "    clf.fit(X_train, y_train)\n",
    "    print(f'accuracy={accuracy_score(y_test, clf.predict(X_test)):.3f}  эталонная точность={accuracy_score(y_test, etalon(X_test)):.3f}   количество бросков в одном испытании={c}')"
   ]
  },
  {
   "cell_type": "code",
   "execution_count": null,
   "id": "ee131fed",
   "metadata": {},
   "outputs": [],
   "source": [
    "#Из предыдущей ячейки видно, что при увеличении количества бросков в одном испытании точность классификатора растет.\n",
    "#Этот результат совпадает с интуицией: при увеличении количества бросков в данных должно становится меньше шума, а следовательно \n",
    "#точность должна расти. Кроме того сравнения с эталонным классификатором указывают на то, что мультиномиальный классификатор\n",
    "#\"выжимает\" максимум точности из имеющейся выборки, а низкое значение точности при 10, 20 бросках объясняется их малым количесвом\n",
    "#а не плохой работой классификатора."
   ]
  },
  {
   "cell_type": "code",
   "execution_count": 58,
   "id": "f4386045",
   "metadata": {},
   "outputs": [
    {
     "name": "stderr",
     "output_type": "stream",
     "text": [
      "C:\\Users\\Алекхаил\\AppData\\Roaming\\Python\\Python39\\site-packages\\sklearn\\utils\\validation.py:1183: DataConversionWarning: A column-vector y was passed when a 1d array was expected. Please change the shape of y to (n_samples, ), for example using ravel().\n",
      "  y = column_or_1d(y, warn=True)\n",
      "C:\\Users\\Алекхаил\\AppData\\Roaming\\Python\\Python39\\site-packages\\sklearn\\utils\\validation.py:1183: DataConversionWarning: A column-vector y was passed when a 1d array was expected. Please change the shape of y to (n_samples, ), for example using ravel().\n",
      "  y = column_or_1d(y, warn=True)\n",
      "C:\\Users\\Алекхаил\\AppData\\Roaming\\Python\\Python39\\site-packages\\sklearn\\utils\\validation.py:1183: DataConversionWarning: A column-vector y was passed when a 1d array was expected. Please change the shape of y to (n_samples, ), for example using ravel().\n",
      "  y = column_or_1d(y, warn=True)\n",
      "C:\\Users\\Алекхаил\\AppData\\Roaming\\Python\\Python39\\site-packages\\sklearn\\utils\\validation.py:1183: DataConversionWarning: A column-vector y was passed when a 1d array was expected. Please change the shape of y to (n_samples, ), for example using ravel().\n",
      "  y = column_or_1d(y, warn=True)\n"
     ]
    },
    {
     "name": "stdout",
     "output_type": "stream",
     "text": [
      " количество бросков в одном испытании=10  precision=0.301 recall=0.683 F-мера=0.418\n",
      "                           для эталона :   precision=0.301 recall=0.683 F-мера=0.418\n",
      "\n",
      " количество бросков в одном испытании=20  precision=0.298 recall=0.750 F-мера=0.427\n",
      "                           для эталона :   precision=0.350 recall=0.600 F-мера=0.442\n",
      "\n",
      " количество бросков в одном испытании=100  precision=0.589 recall=0.883 F-мера=0.707\n",
      "                           для эталона :   precision=0.600 recall=0.800 F-мера=0.686\n",
      "\n",
      " количество бросков в одном испытании=300  precision=0.908 recall=0.983 F-мера=0.944\n",
      "                           для эталона :   precision=0.908 recall=0.983 F-мера=0.944\n",
      "\n",
      " количество бросков в одном испытании=600  precision=0.938 recall=1.000 F-мера=0.968\n",
      "                           для эталона :   precision=0.952 recall=1.000 F-мера=0.976\n",
      "\n"
     ]
    },
    {
     "name": "stderr",
     "output_type": "stream",
     "text": [
      "C:\\Users\\Алекхаил\\AppData\\Roaming\\Python\\Python39\\site-packages\\sklearn\\utils\\validation.py:1183: DataConversionWarning: A column-vector y was passed when a 1d array was expected. Please change the shape of y to (n_samples, ), for example using ravel().\n",
      "  y = column_or_1d(y, warn=True)\n"
     ]
    }
   ],
   "source": [
    "from sklearn.metrics import precision_score\n",
    "from sklearn.metrics import recall_score\n",
    "from sklearn.metrics import f1_score\n",
    "from sklearn.naive_bayes import ComplementNB\n",
    "number_of_trials=[10, 20, 100, 300, 600]\n",
    "for c in number_of_trials :\n",
    "    #Для дополненного классификатора сделаем выборку несбалансированной: 200 объектов 1-го класса и 800 объектов 2-го класса\n",
    "    X, y=generate_X_y(200, 800, c)\n",
    "    X_train, X_test, y_train, y_test = train_test_split(X, y, test_size=0.3, random_state=0, stratify=y)\n",
    "    clf = ComplementNB()\n",
    "    clf.fit(X_train, y_train)\n",
    "    y_pred=clf.predict(X_test)\n",
    "    y_etalon=etalon(X_test)\n",
    "    print(f' количество бросков в одном испытании={c}  precision={precision_score(y_test, y_pred):.3f} recall={recall_score(y_test, y_pred):.3f} F-мера={f1_score(y_test, y_pred):.3f}')\n",
    "    print(f'                           для эталона :   precision={precision_score(y_test, y_etalon):.3f} recall={recall_score(y_test, y_etalon):.3f} F-мера={f1_score(y_test, y_etalon):.3f}')\n",
    "    print()"
   ]
  },
  {
   "cell_type": "code",
   "execution_count": null,
   "id": "c39c3c97",
   "metadata": {},
   "outputs": [],
   "source": [
    "#Аналогично, видно, что точность классификации при несбалансированных данных растет с увеличением числа бросков"
   ]
  },
  {
   "cell_type": "code",
   "execution_count": 60,
   "id": "dc4d4682",
   "metadata": {},
   "outputs": [
    {
     "name": "stderr",
     "output_type": "stream",
     "text": [
      "C:\\Users\\Алекхаил\\AppData\\Roaming\\Python\\Python39\\site-packages\\sklearn\\utils\\validation.py:1183: DataConversionWarning: A column-vector y was passed when a 1d array was expected. Please change the shape of y to (n_samples, ), for example using ravel().\n",
      "  y = column_or_1d(y, warn=True)\n",
      "C:\\Users\\Алекхаил\\AppData\\Roaming\\Python\\Python39\\site-packages\\sklearn\\utils\\validation.py:1183: DataConversionWarning: A column-vector y was passed when a 1d array was expected. Please change the shape of y to (n_samples, ), for example using ravel().\n",
      "  y = column_or_1d(y, warn=True)\n",
      "C:\\Users\\Алекхаил\\AppData\\Roaming\\Python\\Python39\\site-packages\\sklearn\\utils\\validation.py:1183: DataConversionWarning: A column-vector y was passed when a 1d array was expected. Please change the shape of y to (n_samples, ), for example using ravel().\n",
      "  y = column_or_1d(y, warn=True)\n",
      "C:\\Users\\Алекхаил\\AppData\\Roaming\\Python\\Python39\\site-packages\\sklearn\\utils\\validation.py:1183: DataConversionWarning: A column-vector y was passed when a 1d array was expected. Please change the shape of y to (n_samples, ), for example using ravel().\n",
      "  y = column_or_1d(y, warn=True)\n"
     ]
    },
    {
     "name": "stdout",
     "output_type": "stream",
     "text": [
      " количество бросков в одном испытании=10  precision=0.600 recall=0.050 F-мера=0.092\n",
      " количество бросков в одном испытании=20  precision=0.467 recall=0.117 F-мера=0.187\n",
      " количество бросков в одном испытании=100  precision=0.870 recall=0.667 F-мера=0.755\n",
      " количество бросков в одном испытании=300  precision=0.857 recall=0.900 F-мера=0.878\n",
      " количество бросков в одном испытании=600  precision=1.000 recall=1.000 F-мера=1.000\n"
     ]
    },
    {
     "name": "stderr",
     "output_type": "stream",
     "text": [
      "C:\\Users\\Алекхаил\\AppData\\Roaming\\Python\\Python39\\site-packages\\sklearn\\utils\\validation.py:1183: DataConversionWarning: A column-vector y was passed when a 1d array was expected. Please change the shape of y to (n_samples, ), for example using ravel().\n",
      "  y = column_or_1d(y, warn=True)\n"
     ]
    }
   ],
   "source": [
    "from sklearn.metrics import precision_score\n",
    "from sklearn.metrics import recall_score\n",
    "from sklearn.metrics import f1_score\n",
    "number_of_trials=[10, 20, 100, 300, 600]\n",
    "for c in number_of_trials :\n",
    "    X, y=generate_X_y(200, 800, c)\n",
    "    X_train, X_test, y_train, y_test = train_test_split(X, y, test_size=0.3, random_state=0, stratify=y)\n",
    "    clf = MultinomialNB()\n",
    "    clf.fit(X_train, y_train)\n",
    "    y_pred=clf.predict(X_test)\n",
    "    print(f' количество бросков в одном испытании={c}  precision={precision_score(y_test, y_pred):.3f} recall={recall_score(y_test, y_pred):.3f} F-мера={f1_score(y_test, y_pred):.3f}')"
   ]
  },
  {
   "cell_type": "code",
   "execution_count": null,
   "id": "b7e947c6",
   "metadata": {},
   "outputs": [],
   "source": [
    "#Интересный результат. Теоретические ComplementNB должен работать на несбалансированных данных лучше, чем MultinomialNB\n",
    "#Но он улучшает precision, ухудшая при этом recall."
   ]
  },
  {
   "cell_type": "code",
   "execution_count": 61,
   "id": "2d765d51",
   "metadata": {},
   "outputs": [],
   "source": [
    "#Для классификатора Бернулли поменял выборку. Теперь у объекта 5 фичей, при чем каждая символизирует однократных бросок монеты.\n",
    "#Задача такая же - определить генератор, которым создавался объект.\n",
    "def generate_X_y(a, b) :\n",
    "    X=[]\n",
    "    y=[]\n",
    "    for i in range(a) :\n",
    "        x=[]\n",
    "        if random()>0.5 :\n",
    "            x.append(1)\n",
    "        else :\n",
    "            x.append(0)\n",
    "        if random()>0.7 :\n",
    "            x.append(1)\n",
    "        else :\n",
    "            x.append(0)\n",
    "        if random()>0.2 :\n",
    "            x.append(1)\n",
    "        else :\n",
    "            x.append(0)\n",
    "        if random()>0.1 :\n",
    "            x.append(1)\n",
    "        else :\n",
    "            x.append(0)\n",
    "        if random()>0.95 :\n",
    "            x.append(1)\n",
    "        else :\n",
    "            x.append(0)\n",
    "        X.append(x)\n",
    "        y.append(1)\n",
    "    for i in range(b) :\n",
    "        x=[]\n",
    "        if random()>0.3 :\n",
    "            x.append(1)\n",
    "        else :\n",
    "            x.append(0)\n",
    "        if random()>0.1 :\n",
    "            x.append(1)\n",
    "        else :\n",
    "            x.append(0)\n",
    "        if random()>0.2 :\n",
    "            x.append(1)\n",
    "        else :\n",
    "            x.append(0)\n",
    "        if random()>0.75 :\n",
    "            x.append(1)\n",
    "        else :\n",
    "            x.append(0)\n",
    "        if random()>0.4 :\n",
    "            x.append(1)\n",
    "        else :\n",
    "            x.append(0)\n",
    "        X.append(x)\n",
    "        y.append(0)\n",
    "    X=pd.DataFrame(X)\n",
    "    y=pd.DataFrame(y)\n",
    "    return X, y"
   ]
  },
  {
   "cell_type": "code",
   "execution_count": 64,
   "id": "57d1889f",
   "metadata": {},
   "outputs": [
    {
     "data": {
      "text/html": [
       "<div>\n",
       "<style scoped>\n",
       "    .dataframe tbody tr th:only-of-type {\n",
       "        vertical-align: middle;\n",
       "    }\n",
       "\n",
       "    .dataframe tbody tr th {\n",
       "        vertical-align: top;\n",
       "    }\n",
       "\n",
       "    .dataframe thead th {\n",
       "        text-align: right;\n",
       "    }\n",
       "</style>\n",
       "<table border=\"1\" class=\"dataframe\">\n",
       "  <thead>\n",
       "    <tr style=\"text-align: right;\">\n",
       "      <th></th>\n",
       "      <th>0</th>\n",
       "      <th>1</th>\n",
       "      <th>2</th>\n",
       "      <th>3</th>\n",
       "      <th>4</th>\n",
       "    </tr>\n",
       "  </thead>\n",
       "  <tbody>\n",
       "    <tr>\n",
       "      <th>0</th>\n",
       "      <td>0</td>\n",
       "      <td>0</td>\n",
       "      <td>1</td>\n",
       "      <td>1</td>\n",
       "      <td>0</td>\n",
       "    </tr>\n",
       "    <tr>\n",
       "      <th>1</th>\n",
       "      <td>1</td>\n",
       "      <td>0</td>\n",
       "      <td>1</td>\n",
       "      <td>1</td>\n",
       "      <td>0</td>\n",
       "    </tr>\n",
       "    <tr>\n",
       "      <th>2</th>\n",
       "      <td>0</td>\n",
       "      <td>0</td>\n",
       "      <td>1</td>\n",
       "      <td>1</td>\n",
       "      <td>0</td>\n",
       "    </tr>\n",
       "    <tr>\n",
       "      <th>3</th>\n",
       "      <td>0</td>\n",
       "      <td>1</td>\n",
       "      <td>1</td>\n",
       "      <td>1</td>\n",
       "      <td>0</td>\n",
       "    </tr>\n",
       "    <tr>\n",
       "      <th>4</th>\n",
       "      <td>1</td>\n",
       "      <td>1</td>\n",
       "      <td>1</td>\n",
       "      <td>1</td>\n",
       "      <td>1</td>\n",
       "    </tr>\n",
       "  </tbody>\n",
       "</table>\n",
       "</div>"
      ],
      "text/plain": [
       "   0  1  2  3  4\n",
       "0  0  0  1  1  0\n",
       "1  1  0  1  1  0\n",
       "2  0  0  1  1  0\n",
       "3  0  1  1  1  0\n",
       "4  1  1  1  1  1"
      ]
     },
     "execution_count": 64,
     "metadata": {},
     "output_type": "execute_result"
    }
   ],
   "source": [
    "X, y=generate_X_y(500, 500)\n",
    "X.head()"
   ]
  },
  {
   "cell_type": "code",
   "execution_count": 65,
   "id": "a7126563",
   "metadata": {},
   "outputs": [
    {
     "data": {
      "text/html": [
       "<div>\n",
       "<style scoped>\n",
       "    .dataframe tbody tr th:only-of-type {\n",
       "        vertical-align: middle;\n",
       "    }\n",
       "\n",
       "    .dataframe tbody tr th {\n",
       "        vertical-align: top;\n",
       "    }\n",
       "\n",
       "    .dataframe thead th {\n",
       "        text-align: right;\n",
       "    }\n",
       "</style>\n",
       "<table border=\"1\" class=\"dataframe\">\n",
       "  <thead>\n",
       "    <tr style=\"text-align: right;\">\n",
       "      <th></th>\n",
       "      <th>0</th>\n",
       "    </tr>\n",
       "  </thead>\n",
       "  <tbody>\n",
       "    <tr>\n",
       "      <th>0</th>\n",
       "      <td>1</td>\n",
       "    </tr>\n",
       "    <tr>\n",
       "      <th>1</th>\n",
       "      <td>1</td>\n",
       "    </tr>\n",
       "    <tr>\n",
       "      <th>2</th>\n",
       "      <td>1</td>\n",
       "    </tr>\n",
       "    <tr>\n",
       "      <th>3</th>\n",
       "      <td>1</td>\n",
       "    </tr>\n",
       "    <tr>\n",
       "      <th>4</th>\n",
       "      <td>1</td>\n",
       "    </tr>\n",
       "  </tbody>\n",
       "</table>\n",
       "</div>"
      ],
      "text/plain": [
       "   0\n",
       "0  1\n",
       "1  1\n",
       "2  1\n",
       "3  1\n",
       "4  1"
      ]
     },
     "execution_count": 65,
     "metadata": {},
     "output_type": "execute_result"
    }
   ],
   "source": [
    "y.head()"
   ]
  },
  {
   "cell_type": "code",
   "execution_count": 63,
   "id": "e89cbaab",
   "metadata": {},
   "outputs": [
    {
     "name": "stdout",
     "output_type": "stream",
     "text": [
      "accuracy=0.913\n"
     ]
    },
    {
     "name": "stderr",
     "output_type": "stream",
     "text": [
      "C:\\Users\\Алекхаил\\AppData\\Roaming\\Python\\Python39\\site-packages\\sklearn\\utils\\validation.py:1183: DataConversionWarning: A column-vector y was passed when a 1d array was expected. Please change the shape of y to (n_samples, ), for example using ravel().\n",
      "  y = column_or_1d(y, warn=True)\n"
     ]
    }
   ],
   "source": [
    "from sklearn.naive_bayes import BernoulliNB\n",
    "X_train, X_test, y_train, y_test = train_test_split(X, y, test_size=0.3, random_state=0, stratify=y)\n",
    "clf = BernoulliNB()\n",
    "clf.fit(X_train, y_train)\n",
    "y_pred=clf.predict(X_test)\n",
    "print(f'accuracy={accuracy_score(y_test, y_pred):.3f}')"
   ]
  },
  {
   "cell_type": "code",
   "execution_count": null,
   "id": "20c2584a",
   "metadata": {},
   "outputs": [],
   "source": []
  },
  {
   "cell_type": "code",
   "execution_count": null,
   "id": "25a656e1",
   "metadata": {},
   "outputs": [],
   "source": []
  },
  {
   "cell_type": "code",
   "execution_count": null,
   "id": "0304f52d",
   "metadata": {},
   "outputs": [],
   "source": []
  }
 ],
 "metadata": {
  "kernelspec": {
   "display_name": "Python 3 (ipykernel)",
   "language": "python",
   "name": "python3"
  },
  "language_info": {
   "codemirror_mode": {
    "name": "ipython",
    "version": 3
   },
   "file_extension": ".py",
   "mimetype": "text/x-python",
   "name": "python",
   "nbconvert_exporter": "python",
   "pygments_lexer": "ipython3",
   "version": "3.9.12"
  }
 },
 "nbformat": 4,
 "nbformat_minor": 5
}
