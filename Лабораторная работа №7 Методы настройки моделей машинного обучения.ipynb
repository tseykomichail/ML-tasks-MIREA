{
 "cells": [
  {
   "cell_type": "markdown",
   "id": "8ba8b77d",
   "metadata": {},
   "source": [
    "Данная лабораторная работа ориентирована на знакомство с такими методами, как стратификация, кросс-валидация и различные алгоритмы подбора гиперпараметров для моделей машинного обучения с реализацией на языке программирования Python:\n",
    "\n",
    "Продемонстрировать сохранение свойств исходного датасета при разбиении на тренировочную и тестовую (например, сохранения типа распределения) части для пользовательских и/или модельных данных.\n",
    "Реализовать процедуру перекрестной проверки для пользовательских и/или модельных данных. Продемонстрировать процесс наглядно.\n",
    "Для пользовательских и/или модельных данных реализовать сравнение скорости и точности результатов методов после применения перебора гиперпараметров по сетке, методом случайного поиска и с использованием байесовской оптимизации."
   ]
  },
  {
   "cell_type": "code",
   "execution_count": 1,
   "id": "08a19ac8",
   "metadata": {},
   "outputs": [],
   "source": [
    "from sklearn.datasets import load_digits\n",
    "X, y=load_digits(return_X_y=True, as_frame=True)"
   ]
  },
  {
   "cell_type": "code",
   "execution_count": 3,
   "id": "7e6ca745",
   "metadata": {},
   "outputs": [
    {
     "data": {
      "text/plain": [
       "0       0\n",
       "1       1\n",
       "2       2\n",
       "3       3\n",
       "4       4\n",
       "       ..\n",
       "1792    9\n",
       "1793    0\n",
       "1794    8\n",
       "1795    9\n",
       "1796    8\n",
       "Name: target, Length: 1797, dtype: int32"
      ]
     },
     "execution_count": 3,
     "metadata": {},
     "output_type": "execute_result"
    }
   ],
   "source": [
    "y"
   ]
  },
  {
   "cell_type": "code",
   "execution_count": 14,
   "id": "235773d6",
   "metadata": {},
   "outputs": [],
   "source": [
    "from sklearn.model_selection import train_test_split\n",
    "X_train, X_test, y_train, y_test = train_test_split(X, y, test_size=0.33, random_state=42, stratify=y)"
   ]
  },
  {
   "cell_type": "code",
   "execution_count": 15,
   "id": "eb86a5dd",
   "metadata": {},
   "outputs": [
    {
     "data": {
      "image/png": "[encoded data removed]",
      "text/plain": [
       "<Figure size 432x288 with 1 Axes>"
      ]
     },
     "metadata": {
      "needs_background": "light"
     },
     "output_type": "display_data"
    }
   ],
   "source": [
    "import numpy as np\n",
    "import matplotlib.pyplot as plt\n",
    "\n",
    "y_train=np.array(y_train)\n",
    "\n",
    "\n",
    "plt.hist(y_train, bins=10, color='blue', edgecolor='black', alpha=0.7)\n",
    "\n",
    "\n",
    "plt.title('Гистограмма вектора')\n",
    "plt.xlabel('Значение')\n",
    "plt.ylabel('Частота')\n",
    "\n",
    "plt.show()"
   ]
  },
  {
   "cell_type": "code",
   "execution_count": 16,
   "id": "c9889fec",
   "metadata": {},
   "outputs": [
    {
     "data": {
      "image/png": "[encoded data removed]",
      "text/plain": [
       "<Figure size 432x288 with 1 Axes>"
      ]
     },
     "metadata": {
      "needs_background": "light"
     },
     "output_type": "display_data"
    }
   ],
   "source": [
    "\n",
    "\n",
    "y_test=np.array(y_test)\n",
    "\n",
    "\n",
    "plt.hist(y_test, bins=10, color='blue', edgecolor='black', alpha=0.7)\n",
    "\n",
    "\n",
    "plt.title('Гистограмма вектора')\n",
    "plt.xlabel('Значение')\n",
    "plt.ylabel('Частота')\n",
    "\n",
    "plt.show()\n",
    "#Распределение классов осталось таким же "
   ]
  },
  {
   "cell_type": "code",
   "execution_count": 17,
   "id": "4db7f6ef",
   "metadata": {},
   "outputs": [
    {
     "data": {
      "text/plain": [
       "array([[ 0.        , -0.33501649, -0.04308102, ..., -1.14664746,\n",
       "        -0.5056698 , -0.19600752],\n",
       "       [ 0.        , -0.33501649, -1.09493684, ...,  0.54856067,\n",
       "        -0.5056698 , -0.19600752],\n",
       "       [ 0.        , -0.33501649, -1.09493684, ...,  1.56568555,\n",
       "         1.6951369 , -0.19600752],\n",
       "       ...,\n",
       "       [ 0.        , -0.33501649, -0.88456568, ..., -0.12952258,\n",
       "        -0.5056698 , -0.19600752],\n",
       "       [ 0.        , -0.33501649, -0.67419451, ...,  0.8876023 ,\n",
       "        -0.5056698 , -0.19600752],\n",
       "       [ 0.        , -0.33501649,  1.00877481, ...,  0.8876023 ,\n",
       "        -0.26113572, -0.19600752]])"
      ]
     },
     "execution_count": 17,
     "metadata": {},
     "output_type": "execute_result"
    }
   ],
   "source": [
    "from sklearn.preprocessing import StandardScaler\n",
    "scaler = StandardScaler()\n",
    "scaler.fit(X)\n",
    "X=scaler.transform(X)\n",
    "X"
   ]
  },
  {
   "cell_type": "code",
   "execution_count": 19,
   "id": "39d45085",
   "metadata": {},
   "outputs": [
    {
     "name": "stdout",
     "output_type": "stream",
     "text": [
      "k=2      mean accuracy=0.9526939788950962\n",
      "k=3      mean accuracy=0.9604872749844816\n",
      "k=4      mean accuracy=0.9560335195530726\n",
      "k=5      mean accuracy=0.9604934823091247\n",
      "k=6      mean accuracy=0.9571508379888268\n",
      "k=7      mean accuracy=0.9554872749844817\n",
      "k=8      mean accuracy=0.9560335195530726\n",
      "k=9      mean accuracy=0.9543637492240844\n",
      "k=10      mean accuracy=0.951582867783985\n",
      "k=11      mean accuracy=0.9499130974549969\n",
      "k=12      mean accuracy=0.9487988826815641\n",
      "k=13      mean accuracy=0.9454655493482308\n",
      "k=14      mean accuracy=0.9449037864680323\n",
      "k=15      mean accuracy=0.942129112352576\n",
      "k=16      mean accuracy=0.9426877715704531\n",
      "k=17      mean accuracy=0.9426908752327746\n",
      "k=18      mean accuracy=0.9443544382371197\n",
      "k=19      mean accuracy=0.9421322160148975\n"
     ]
    }
   ],
   "source": [
    "from sklearn.model_selection import KFold\n",
    "from sklearn.neighbors import KNeighborsClassifier\n",
    "from sklearn.metrics import accuracy_score\n",
    "kf = KFold(n_splits=10)\n",
    "for k  in range(2, 20) :\n",
    "    accuracies=[]\n",
    "    neigh = KNeighborsClassifier(n_neighbors=k)\n",
    "    for train_index, test_index in kf.split(X):\n",
    "        #print(\"TRAIN:\", train_index, \"TEST:\", test_index)\n",
    "        X_train, X_test = X[train_index], X[test_index]\n",
    "        y_train, y_test = y[train_index], y[test_index]\n",
    "        neigh.fit(X_train, y_train)\n",
    "        accuracies.append(accuracy_score(neigh.predict(X_test), y_test))\n",
    "    mean_accuracy=0\n",
    "    for x in accuracies :\n",
    "        mean_accuracy+=x\n",
    "    mean_accuracy/=10\n",
    "    print(f'k={k}      mean accuracy={mean_accuracy}')\n",
    "#Для каждого значения гиперпараметра k считаю среднее значение accuracy на 10 фолдах"
   ]
  },
  {
   "cell_type": "code",
   "execution_count": 7,
   "id": "efb6f753",
   "metadata": {},
   "outputs": [],
   "source": [
    "from sklearn.datasets import load_breast_cancer\n",
    "X, y=load_breast_cancer(return_X_y=True, as_frame=True)"
   ]
  },
  {
   "cell_type": "code",
   "execution_count": 8,
   "id": "946af0be",
   "metadata": {},
   "outputs": [
    {
     "data": {
      "text/html": [
       "<div>\n",
       "<style scoped>\n",
       "    .dataframe tbody tr th:only-of-type {\n",
       "        vertical-align: middle;\n",
       "    }\n",
       "\n",
       "    .dataframe tbody tr th {\n",
       "        vertical-align: top;\n",
       "    }\n",
       "\n",
       "    .dataframe thead th {\n",
       "        text-align: right;\n",
       "    }\n",
       "</style>\n",
       "<table border=\"1\" class=\"dataframe\">\n",
       "  <thead>\n",
       "    <tr style=\"text-align: right;\">\n",
       "      <th></th>\n",
       "      <th>mean radius</th>\n",
       "      <th>mean texture</th>\n",
       "      <th>mean perimeter</th>\n",
       "      <th>mean area</th>\n",
       "      <th>mean smoothness</th>\n",
       "      <th>mean compactness</th>\n",
       "      <th>mean concavity</th>\n",
       "      <th>mean concave points</th>\n",
       "      <th>mean symmetry</th>\n",
       "      <th>mean fractal dimension</th>\n",
       "      <th>...</th>\n",
       "      <th>worst radius</th>\n",
       "      <th>worst texture</th>\n",
       "      <th>worst perimeter</th>\n",
       "      <th>worst area</th>\n",
       "      <th>worst smoothness</th>\n",
       "      <th>worst compactness</th>\n",
       "      <th>worst concavity</th>\n",
       "      <th>worst concave points</th>\n",
       "      <th>worst symmetry</th>\n",
       "      <th>worst fractal dimension</th>\n",
       "    </tr>\n",
       "  </thead>\n",
       "  <tbody>\n",
       "    <tr>\n",
       "      <th>0</th>\n",
       "      <td>17.99</td>\n",
       "      <td>10.38</td>\n",
       "      <td>122.80</td>\n",
       "      <td>1001.0</td>\n",
       "      <td>0.11840</td>\n",
       "      <td>0.27760</td>\n",
       "      <td>0.3001</td>\n",
       "      <td>0.14710</td>\n",
       "      <td>0.2419</td>\n",
       "      <td>0.07871</td>\n",
       "      <td>...</td>\n",
       "      <td>25.38</td>\n",
       "      <td>17.33</td>\n",
       "      <td>184.60</td>\n",
       "      <td>2019.0</td>\n",
       "      <td>0.1622</td>\n",
       "      <td>0.6656</td>\n",
       "      <td>0.7119</td>\n",
       "      <td>0.2654</td>\n",
       "      <td>0.4601</td>\n",
       "      <td>0.11890</td>\n",
       "    </tr>\n",
       "    <tr>\n",
       "      <th>1</th>\n",
       "      <td>20.57</td>\n",
       "      <td>17.77</td>\n",
       "      <td>132.90</td>\n",
       "      <td>1326.0</td>\n",
       "      <td>0.08474</td>\n",
       "      <td>0.07864</td>\n",
       "      <td>0.0869</td>\n",
       "      <td>0.07017</td>\n",
       "      <td>0.1812</td>\n",
       "      <td>0.05667</td>\n",
       "      <td>...</td>\n",
       "      <td>24.99</td>\n",
       "      <td>23.41</td>\n",
       "      <td>158.80</td>\n",
       "      <td>1956.0</td>\n",
       "      <td>0.1238</td>\n",
       "      <td>0.1866</td>\n",
       "      <td>0.2416</td>\n",
       "      <td>0.1860</td>\n",
       "      <td>0.2750</td>\n",
       "      <td>0.08902</td>\n",
       "    </tr>\n",
       "    <tr>\n",
       "      <th>2</th>\n",
       "      <td>19.69</td>\n",
       "      <td>21.25</td>\n",
       "      <td>130.00</td>\n",
       "      <td>1203.0</td>\n",
       "      <td>0.10960</td>\n",
       "      <td>0.15990</td>\n",
       "      <td>0.1974</td>\n",
       "      <td>0.12790</td>\n",
       "      <td>0.2069</td>\n",
       "      <td>0.05999</td>\n",
       "      <td>...</td>\n",
       "      <td>23.57</td>\n",
       "      <td>25.53</td>\n",
       "      <td>152.50</td>\n",
       "      <td>1709.0</td>\n",
       "      <td>0.1444</td>\n",
       "      <td>0.4245</td>\n",
       "      <td>0.4504</td>\n",
       "      <td>0.2430</td>\n",
       "      <td>0.3613</td>\n",
       "      <td>0.08758</td>\n",
       "    </tr>\n",
       "    <tr>\n",
       "      <th>3</th>\n",
       "      <td>11.42</td>\n",
       "      <td>20.38</td>\n",
       "      <td>77.58</td>\n",
       "      <td>386.1</td>\n",
       "      <td>0.14250</td>\n",
       "      <td>0.28390</td>\n",
       "      <td>0.2414</td>\n",
       "      <td>0.10520</td>\n",
       "      <td>0.2597</td>\n",
       "      <td>0.09744</td>\n",
       "      <td>...</td>\n",
       "      <td>14.91</td>\n",
       "      <td>26.50</td>\n",
       "      <td>98.87</td>\n",
       "      <td>567.7</td>\n",
       "      <td>0.2098</td>\n",
       "      <td>0.8663</td>\n",
       "      <td>0.6869</td>\n",
       "      <td>0.2575</td>\n",
       "      <td>0.6638</td>\n",
       "      <td>0.17300</td>\n",
       "    </tr>\n",
       "    <tr>\n",
       "      <th>4</th>\n",
       "      <td>20.29</td>\n",
       "      <td>14.34</td>\n",
       "      <td>135.10</td>\n",
       "      <td>1297.0</td>\n",
       "      <td>0.10030</td>\n",
       "      <td>0.13280</td>\n",
       "      <td>0.1980</td>\n",
       "      <td>0.10430</td>\n",
       "      <td>0.1809</td>\n",
       "      <td>0.05883</td>\n",
       "      <td>...</td>\n",
       "      <td>22.54</td>\n",
       "      <td>16.67</td>\n",
       "      <td>152.20</td>\n",
       "      <td>1575.0</td>\n",
       "      <td>0.1374</td>\n",
       "      <td>0.2050</td>\n",
       "      <td>0.4000</td>\n",
       "      <td>0.1625</td>\n",
       "      <td>0.2364</td>\n",
       "      <td>0.07678</td>\n",
       "    </tr>\n",
       "  </tbody>\n",
       "</table>\n",
       "<p>5 rows × 30 columns</p>\n",
       "</div>"
      ],
      "text/plain": [
       "   mean radius  mean texture  mean perimeter  mean area  mean smoothness  \\\n",
       "0        17.99         10.38          122.80     1001.0          0.11840   \n",
       "1        20.57         17.77          132.90     1326.0          0.08474   \n",
       "2        19.69         21.25          130.00     1203.0          0.10960   \n",
       "3        11.42         20.38           77.58      386.1          0.14250   \n",
       "4        20.29         14.34          135.10     1297.0          0.10030   \n",
       "\n",
       "   mean compactness  mean concavity  mean concave points  mean symmetry  \\\n",
       "0           0.27760          0.3001              0.14710         0.2419   \n",
       "1           0.07864          0.0869              0.07017         0.1812   \n",
       "2           0.15990          0.1974              0.12790         0.2069   \n",
       "3           0.28390          0.2414              0.10520         0.2597   \n",
       "4           0.13280          0.1980              0.10430         0.1809   \n",
       "\n",
       "   mean fractal dimension  ...  worst radius  worst texture  worst perimeter  \\\n",
       "0                 0.07871  ...         25.38          17.33           184.60   \n",
       "1                 0.05667  ...         24.99          23.41           158.80   \n",
       "2                 0.05999  ...         23.57          25.53           152.50   \n",
       "3                 0.09744  ...         14.91          26.50            98.87   \n",
       "4                 0.05883  ...         22.54          16.67           152.20   \n",
       "\n",
       "   worst area  worst smoothness  worst compactness  worst concavity  \\\n",
       "0      2019.0            0.1622             0.6656           0.7119   \n",
       "1      1956.0            0.1238             0.1866           0.2416   \n",
       "2      1709.0            0.1444             0.4245           0.4504   \n",
       "3       567.7            0.2098             0.8663           0.6869   \n",
       "4      1575.0            0.1374             0.2050           0.4000   \n",
       "\n",
       "   worst concave points  worst symmetry  worst fractal dimension  \n",
       "0                0.2654          0.4601                  0.11890  \n",
       "1                0.1860          0.2750                  0.08902  \n",
       "2                0.2430          0.3613                  0.08758  \n",
       "3                0.2575          0.6638                  0.17300  \n",
       "4                0.1625          0.2364                  0.07678  \n",
       "\n",
       "[5 rows x 30 columns]"
      ]
     },
     "execution_count": 8,
     "metadata": {},
     "output_type": "execute_result"
    }
   ],
   "source": [
    "X.head()"
   ]
  },
  {
   "cell_type": "code",
   "execution_count": 9,
   "id": "305756e5",
   "metadata": {},
   "outputs": [],
   "source": [
    "from sklearn.model_selection import train_test_split\n",
    "X_train, X_test, y_train, y_test = train_test_split(X, y, test_size=0.2, random_state=42, stratify=y)"
   ]
  },
  {
   "cell_type": "code",
   "execution_count": 24,
   "id": "883c3fc9",
   "metadata": {},
   "outputs": [
    {
     "name": "stdout",
     "output_type": "stream",
     "text": [
      "--- 34.85407638549805 секунд ---\n",
      "Лучшие параметры: {'n_estimators': 26, 'min_samples_split': 15, 'min_samples_leaf': 15, 'max_features': 'log2', 'max_depth': 60, 'criterion': 'entropy'}\n",
      "Лучшее качество модели: 0.9604395604395606\n"
     ]
    }
   ],
   "source": [
    "#Перебор гиперпараметров методом случайного поиска\n",
    "from sklearn.ensemble import RandomForestClassifier\n",
    "from sklearn.model_selection import RandomizedSearchCV\n",
    "import time\n",
    "param_dist = {\n",
    "    'n_estimators':[ 26, 31, 40],\n",
    "    'criterion': ['gini', 'entropy'],\n",
    "    'max_depth': [45,  50, 55, 60],\n",
    "    'min_samples_split': [ 10, 15, 20],\n",
    "    'min_samples_leaf': [ 15, 20, 25, 30],\n",
    "    'max_features': ['sqrt', 'log2'],\n",
    "    #'min_impurity_decrease' : uniform(0, 0.2),\n",
    "    #'ccp_alpha' : uniform(0, 0.2)\n",
    "}\n",
    "dtree = RandomForestClassifier()\n",
    "random_search = RandomizedSearchCV(estimator=dtree, param_distributions=param_dist, n_iter=100, cv=5, scoring='accuracy', random_state=42)\n",
    "start_time = time.time()\n",
    "random_search.fit(X_train, y_train)\n",
    "print(\"--- %s секунд ---\" % (time.time() - start_time))\n",
    "print(\"Лучшие параметры:\", random_search.best_params_)\n",
    "print(\"Лучшее качество модели:\", random_search.best_score_)"
   ]
  },
  {
   "cell_type": "code",
   "execution_count": 25,
   "id": "1c576b01",
   "metadata": {},
   "outputs": [
    {
     "name": "stdout",
     "output_type": "stream",
     "text": [
      "--- 204.42699551582336 секунд ---\n",
      "Лучшие параметры: {'criterion': 'gini', 'max_depth': 60, 'max_features': 'log2', 'min_samples_leaf': 15, 'min_samples_split': 10, 'n_estimators': 40}\n",
      "Лучшее качество модели: 0.9604395604395606\n"
     ]
    }
   ],
   "source": [
    "#Перебор гиперпараметров по сетке\n",
    "from sklearn.model_selection import GridSearchCV\n",
    "param_dist = {\n",
    "    'n_estimators':[ 26, 31, 40],\n",
    "    'criterion': ['gini', 'entropy'],\n",
    "    'max_depth': [45,  50, 55, 60],\n",
    "    'min_samples_split': [ 10, 15, 20],\n",
    "    'min_samples_leaf': [ 15, 20, 25, 30],\n",
    "    'max_features': ['sqrt', 'log2'],\n",
    "    #'min_impurity_decrease' : uniform(0, 0.2),\n",
    "    #'ccp_alpha' : uniform(0, 0.2)\n",
    "}\n",
    "dtree = RandomForestClassifier()\n",
    "grid_search = GridSearchCV(dtree, param_dist, scoring='accuracy')\n",
    "start_time = time.time()\n",
    "grid_search.fit(X_train, y_train)\n",
    "print(\"--- %s секунд ---\" % (time.time() - start_time))\n",
    "print(\"Лучшие параметры:\", grid_search.best_params_)\n",
    "print(\"Лучшее качество модели:\", grid_search.best_score_)"
   ]
  },
  {
   "cell_type": "code",
   "execution_count": 17,
   "id": "5f449226",
   "metadata": {},
   "outputs": [
    {
     "name": "stdout",
     "output_type": "stream",
     "text": [
      "Defaulting to user installation because normal site-packages is not writeable\n",
      "Collecting optuna\n",
      "  Downloading optuna-3.5.0-py3-none-any.whl (413 kB)\n",
      "Requirement already satisfied: packaging>=20.0 in c:\\anaconda3\\lib\\site-packages (from optuna) (21.3)\n",
      "Requirement already satisfied: sqlalchemy>=1.3.0 in c:\\anaconda3\\lib\\site-packages (from optuna) (1.4.32)\n",
      "Note: you may need to restart the kernel to use updated packages.Requirement already satisfied: PyYAML in c:\\anaconda3\\lib\\site-packages (from optuna) (6.0)\n",
      "Requirement already satisfied: tqdm in c:\\anaconda3\\lib\\site-packages (from optuna) (4.64.0)\n",
      "Collecting colorlog\n",
      "\n"
     ]
    },
    {
     "name": "stderr",
     "output_type": "stream",
     "text": [
      "  WARNING: The script mako-render.exe is installed in 'C:\\Users\\Алекхаил\\AppData\\Roaming\\Python\\Python39\\Scripts' which is not on PATH.\n",
      "  Consider adding this directory to PATH or, if you prefer to suppress this warning, use --no-warn-script-location.\n",
      "  WARNING: The script alembic.exe is installed in 'C:\\Users\\Алекхаил\\AppData\\Roaming\\Python\\Python39\\Scripts' which is not on PATH.\n",
      "  Consider adding this directory to PATH or, if you prefer to suppress this warning, use --no-warn-script-location."
     ]
    },
    {
     "name": "stdout",
     "output_type": "stream",
     "text": [
      "  Downloading colorlog-6.8.0-py3-none-any.whl (11 kB)\n",
      "Collecting alembic>=1.5.0\n",
      "  Downloading alembic-1.13.1-py3-none-any.whl (233 kB)\n",
      "Requirement already satisfied: numpy in c:\\anaconda3\\lib\\site-packages (from optuna) (1.21.5)\n",
      "Collecting Mako\n",
      "  Downloading Mako-1.3.0-py3-none-any.whl (78 kB)\n",
      "Requirement already satisfied: typing-extensions>=4 in c:\\anaconda3\\lib\\site-packages (from alembic>=1.5.0->optuna) (4.1.1)\n",
      "Requirement already satisfied: pyparsing!=3.0.5,>=2.0.2 in c:\\anaconda3\\lib\\site-packages (from packaging>=20.0->optuna) (3.0.4)\n",
      "Requirement already satisfied: greenlet!=0.4.17 in c:\\anaconda3\\lib\\site-packages (from sqlalchemy>=1.3.0->optuna) (1.1.1)\n",
      "Requirement already satisfied: colorama in c:\\anaconda3\\lib\\site-packages (from colorlog->optuna) (0.4.4)\n",
      "Requirement already satisfied: MarkupSafe>=0.9.2 in c:\\anaconda3\\lib\\site-packages (from Mako->alembic>=1.5.0->optuna) (2.0.1)\n",
      "Installing collected packages: Mako, colorlog, alembic, optuna\n",
      "Successfully installed Mako-1.3.0 alembic-1.13.1 colorlog-6.8.0 optuna-3.5.0\n"
     ]
    },
    {
     "name": "stderr",
     "output_type": "stream",
     "text": [
      "\n",
      "  WARNING: The script optuna.exe is installed in 'C:\\Users\\Алекхаил\\AppData\\Roaming\\Python\\Python39\\Scripts' which is not on PATH.\n",
      "  Consider adding this directory to PATH or, if you prefer to suppress this warning, use --no-warn-script-location.\n"
     ]
    }
   ],
   "source": [
    "pip install optuna"
   ]
  },
  {
   "cell_type": "code",
   "execution_count": 26,
   "id": "147fc7f9",
   "metadata": {},
   "outputs": [
    {
     "name": "stderr",
     "output_type": "stream",
     "text": [
      "[I 2024-01-11 22:36:43,634] A new study created in memory with name: no-name-6c5d6f93-0a9d-4b54-86ef-1c7aa0d45c1e\n",
      "[I 2024-01-11 22:36:43,961] Trial 0 finished with value: 0.945054945054945 and parameters: {'n_estimators': 28, 'criterion': 'entropy', 'max_depth': 49, 'min_samples_split': 17, 'min_samples_leaf': 24, 'max_features': 'sqrt'}. Best is trial 0 with value: 0.945054945054945.\n",
      "[I 2024-01-11 22:36:44,351] Trial 1 finished with value: 0.9472527472527472 and parameters: {'n_estimators': 37, 'criterion': 'gini', 'max_depth': 48, 'min_samples_split': 10, 'min_samples_leaf': 16, 'max_features': 'log2'}. Best is trial 1 with value: 0.9472527472527472.\n",
      "[I 2024-01-11 22:36:44,657] Trial 2 finished with value: 0.9428571428571428 and parameters: {'n_estimators': 27, 'criterion': 'entropy', 'max_depth': 55, 'min_samples_split': 15, 'min_samples_leaf': 16, 'max_features': 'log2'}. Best is trial 1 with value: 0.9472527472527472.\n",
      "[I 2024-01-11 22:36:45,075] Trial 3 finished with value: 0.9428571428571428 and parameters: {'n_estimators': 38, 'criterion': 'gini', 'max_depth': 45, 'min_samples_split': 15, 'min_samples_leaf': 28, 'max_features': 'sqrt'}. Best is trial 1 with value: 0.9472527472527472.\n",
      "[I 2024-01-11 22:36:45,360] Trial 4 finished with value: 0.945054945054945 and parameters: {'n_estimators': 27, 'criterion': 'gini', 'max_depth': 54, 'min_samples_split': 19, 'min_samples_leaf': 30, 'max_features': 'log2'}. Best is trial 1 with value: 0.9472527472527472.\n",
      "[I 2024-01-11 22:36:45,717] Trial 5 finished with value: 0.956043956043956 and parameters: {'n_estimators': 31, 'criterion': 'gini', 'max_depth': 51, 'min_samples_split': 19, 'min_samples_leaf': 28, 'max_features': 'log2'}. Best is trial 5 with value: 0.956043956043956.\n",
      "[I 2024-01-11 22:36:46,103] Trial 6 finished with value: 0.9428571428571428 and parameters: {'n_estimators': 30, 'criterion': 'entropy', 'max_depth': 57, 'min_samples_split': 16, 'min_samples_leaf': 17, 'max_features': 'sqrt'}. Best is trial 5 with value: 0.956043956043956.\n",
      "[I 2024-01-11 22:36:46,473] Trial 7 finished with value: 0.956043956043956 and parameters: {'n_estimators': 35, 'criterion': 'entropy', 'max_depth': 59, 'min_samples_split': 20, 'min_samples_leaf': 24, 'max_features': 'log2'}. Best is trial 5 with value: 0.956043956043956.\n",
      "[I 2024-01-11 22:36:46,856] Trial 8 finished with value: 0.945054945054945 and parameters: {'n_estimators': 29, 'criterion': 'gini', 'max_depth': 55, 'min_samples_split': 15, 'min_samples_leaf': 25, 'max_features': 'sqrt'}. Best is trial 5 with value: 0.956043956043956.\n",
      "[I 2024-01-11 22:36:47,269] Trial 9 finished with value: 0.9428571428571427 and parameters: {'n_estimators': 38, 'criterion': 'gini', 'max_depth': 46, 'min_samples_split': 11, 'min_samples_leaf': 21, 'max_features': 'sqrt'}. Best is trial 5 with value: 0.956043956043956.\n",
      "[I 2024-01-11 22:36:47,609] Trial 10 finished with value: 0.956043956043956 and parameters: {'n_estimators': 32, 'criterion': 'gini', 'max_depth': 51, 'min_samples_split': 13, 'min_samples_leaf': 28, 'max_features': 'log2'}. Best is trial 5 with value: 0.956043956043956.\n",
      "[I 2024-01-11 22:36:47,995] Trial 11 finished with value: 0.9494505494505494 and parameters: {'n_estimators': 34, 'criterion': 'entropy', 'max_depth': 60, 'min_samples_split': 20, 'min_samples_leaf': 21, 'max_features': 'log2'}. Best is trial 5 with value: 0.956043956043956.\n",
      "[I 2024-01-11 22:36:48,364] Trial 12 finished with value: 0.956043956043956 and parameters: {'n_estimators': 34, 'criterion': 'entropy', 'max_depth': 60, 'min_samples_split': 18, 'min_samples_leaf': 26, 'max_features': 'log2'}. Best is trial 5 with value: 0.956043956043956.\n",
      "[I 2024-01-11 22:36:48,722] Trial 13 finished with value: 0.9516483516483516 and parameters: {'n_estimators': 32, 'criterion': 'entropy', 'max_depth': 51, 'min_samples_split': 20, 'min_samples_leaf': 22, 'max_features': 'log2'}. Best is trial 5 with value: 0.956043956043956.\n",
      "[I 2024-01-11 22:36:49,115] Trial 14 finished with value: 0.9428571428571428 and parameters: {'n_estimators': 36, 'criterion': 'gini', 'max_depth': 57, 'min_samples_split': 18, 'min_samples_leaf': 19, 'max_features': 'log2'}. Best is trial 5 with value: 0.956043956043956.\n",
      "[I 2024-01-11 22:36:49,536] Trial 15 finished with value: 0.9582417582417582 and parameters: {'n_estimators': 40, 'criterion': 'entropy', 'max_depth': 53, 'min_samples_split': 20, 'min_samples_leaf': 27, 'max_features': 'log2'}. Best is trial 15 with value: 0.9582417582417582.\n",
      "[I 2024-01-11 22:36:49,943] Trial 16 finished with value: 0.9538461538461538 and parameters: {'n_estimators': 40, 'criterion': 'gini', 'max_depth': 52, 'min_samples_split': 18, 'min_samples_leaf': 30, 'max_features': 'log2'}. Best is trial 15 with value: 0.9582417582417582.\n",
      "[I 2024-01-11 22:36:50,301] Trial 17 finished with value: 0.956043956043956 and parameters: {'n_estimators': 31, 'criterion': 'entropy', 'max_depth': 49, 'min_samples_split': 17, 'min_samples_leaf': 27, 'max_features': 'log2'}. Best is trial 15 with value: 0.9582417582417582.\n",
      "[I 2024-01-11 22:36:50,741] Trial 18 finished with value: 0.9538461538461538 and parameters: {'n_estimators': 40, 'criterion': 'gini', 'max_depth': 53, 'min_samples_split': 13, 'min_samples_leaf': 28, 'max_features': 'log2'}. Best is trial 15 with value: 0.9582417582417582.\n",
      "[I 2024-01-11 22:36:51,125] Trial 19 finished with value: 0.9494505494505494 and parameters: {'n_estimators': 33, 'criterion': 'entropy', 'max_depth': 50, 'min_samples_split': 19, 'min_samples_leaf': 30, 'max_features': 'log2'}. Best is trial 15 with value: 0.9582417582417582.\n",
      "[I 2024-01-11 22:36:51,444] Trial 20 finished with value: 0.9516483516483516 and parameters: {'n_estimators': 30, 'criterion': 'gini', 'max_depth': 47, 'min_samples_split': 19, 'min_samples_leaf': 26, 'max_features': 'log2'}. Best is trial 15 with value: 0.9582417582417582.\n",
      "[I 2024-01-11 22:36:51,826] Trial 21 finished with value: 0.956043956043956 and parameters: {'n_estimators': 35, 'criterion': 'entropy', 'max_depth': 57, 'min_samples_split': 20, 'min_samples_leaf': 24, 'max_features': 'log2'}. Best is trial 15 with value: 0.9582417582417582.\n",
      "[I 2024-01-11 22:36:52,252] Trial 22 finished with value: 0.9582417582417582 and parameters: {'n_estimators': 39, 'criterion': 'entropy', 'max_depth': 58, 'min_samples_split': 20, 'min_samples_leaf': 24, 'max_features': 'log2'}. Best is trial 15 with value: 0.9582417582417582.\n",
      "[I 2024-01-11 22:36:52,669] Trial 23 finished with value: 0.956043956043956 and parameters: {'n_estimators': 39, 'criterion': 'entropy', 'max_depth': 53, 'min_samples_split': 19, 'min_samples_leaf': 26, 'max_features': 'log2'}. Best is trial 15 with value: 0.9582417582417582.\n",
      "[I 2024-01-11 22:36:53,093] Trial 24 finished with value: 0.956043956043956 and parameters: {'n_estimators': 38, 'criterion': 'entropy', 'max_depth': 55, 'min_samples_split': 17, 'min_samples_leaf': 23, 'max_features': 'log2'}. Best is trial 15 with value: 0.9582417582417582.\n",
      "[I 2024-01-11 22:36:53,557] Trial 25 finished with value: 0.9538461538461538 and parameters: {'n_estimators': 40, 'criterion': 'entropy', 'max_depth': 58, 'min_samples_split': 20, 'min_samples_leaf': 28, 'max_features': 'log2'}. Best is trial 15 with value: 0.9582417582417582.\n",
      "[I 2024-01-11 22:36:53,970] Trial 26 finished with value: 0.9428571428571428 and parameters: {'n_estimators': 37, 'criterion': 'entropy', 'max_depth': 51, 'min_samples_split': 18, 'min_samples_leaf': 29, 'max_features': 'sqrt'}. Best is trial 15 with value: 0.9582417582417582.\n",
      "[I 2024-01-11 22:36:54,369] Trial 27 finished with value: 0.956043956043956 and parameters: {'n_estimators': 37, 'criterion': 'entropy', 'max_depth': 56, 'min_samples_split': 19, 'min_samples_leaf': 25, 'max_features': 'log2'}. Best is trial 15 with value: 0.9582417582417582.\n",
      "[I 2024-01-11 22:36:54,772] Trial 28 finished with value: 0.9538461538461538 and parameters: {'n_estimators': 39, 'criterion': 'gini', 'max_depth': 52, 'min_samples_split': 13, 'min_samples_leaf': 27, 'max_features': 'log2'}. Best is trial 15 with value: 0.9582417582417582.\n",
      "[I 2024-01-11 22:36:55,112] Trial 29 finished with value: 0.9428571428571428 and parameters: {'n_estimators': 28, 'criterion': 'entropy', 'max_depth': 48, 'min_samples_split': 16, 'min_samples_leaf': 23, 'max_features': 'sqrt'}. Best is trial 15 with value: 0.9582417582417582.\n"
     ]
    },
    {
     "name": "stderr",
     "output_type": "stream",
     "text": [
      "[I 2024-01-11 22:36:55,528] Trial 30 finished with value: 0.9582417582417582 and parameters: {'n_estimators': 39, 'criterion': 'entropy', 'max_depth': 54, 'min_samples_split': 17, 'min_samples_leaf': 25, 'max_features': 'log2'}. Best is trial 15 with value: 0.9582417582417582.\n",
      "[I 2024-01-11 22:36:55,954] Trial 31 finished with value: 0.9582417582417582 and parameters: {'n_estimators': 39, 'criterion': 'entropy', 'max_depth': 54, 'min_samples_split': 17, 'min_samples_leaf': 25, 'max_features': 'log2'}. Best is trial 15 with value: 0.9582417582417582.\n",
      "[I 2024-01-11 22:36:56,373] Trial 32 finished with value: 0.9582417582417582 and parameters: {'n_estimators': 39, 'criterion': 'entropy', 'max_depth': 54, 'min_samples_split': 16, 'min_samples_leaf': 25, 'max_features': 'log2'}. Best is trial 15 with value: 0.9582417582417582.\n",
      "[I 2024-01-11 22:36:56,802] Trial 33 finished with value: 0.956043956043956 and parameters: {'n_estimators': 39, 'criterion': 'entropy', 'max_depth': 54, 'min_samples_split': 14, 'min_samples_leaf': 22, 'max_features': 'log2'}. Best is trial 15 with value: 0.9582417582417582.\n",
      "[I 2024-01-11 22:36:57,256] Trial 34 finished with value: 0.9582417582417582 and parameters: {'n_estimators': 38, 'criterion': 'entropy', 'max_depth': 56, 'min_samples_split': 17, 'min_samples_leaf': 24, 'max_features': 'log2'}. Best is trial 15 with value: 0.9582417582417582.\n",
      "[I 2024-01-11 22:36:57,666] Trial 35 finished with value: 0.9538461538461538 and parameters: {'n_estimators': 36, 'criterion': 'entropy', 'max_depth': 53, 'min_samples_split': 17, 'min_samples_leaf': 27, 'max_features': 'log2'}. Best is trial 15 with value: 0.9582417582417582.\n",
      "[I 2024-01-11 22:36:58,149] Trial 36 finished with value: 0.9516483516483516 and parameters: {'n_estimators': 40, 'criterion': 'entropy', 'max_depth': 55, 'min_samples_split': 10, 'min_samples_leaf': 20, 'max_features': 'log2'}. Best is trial 15 with value: 0.9582417582417582.\n",
      "[I 2024-01-11 22:36:58,612] Trial 37 finished with value: 0.945054945054945 and parameters: {'n_estimators': 38, 'criterion': 'entropy', 'max_depth': 58, 'min_samples_split': 14, 'min_samples_leaf': 25, 'max_features': 'sqrt'}. Best is trial 15 with value: 0.9582417582417582.\n",
      "[I 2024-01-11 22:36:59,016] Trial 38 finished with value: 0.9538461538461538 and parameters: {'n_estimators': 36, 'criterion': 'entropy', 'max_depth': 56, 'min_samples_split': 18, 'min_samples_leaf': 23, 'max_features': 'log2'}. Best is trial 15 with value: 0.9582417582417582.\n",
      "[I 2024-01-11 22:36:59,321] Trial 39 finished with value: 0.9516483516483516 and parameters: {'n_estimators': 26, 'criterion': 'entropy', 'max_depth': 54, 'min_samples_split': 16, 'min_samples_leaf': 24, 'max_features': 'log2'}. Best is trial 15 with value: 0.9582417582417582.\n",
      "[I 2024-01-11 22:36:59,749] Trial 40 finished with value: 0.9428571428571428 and parameters: {'n_estimators': 37, 'criterion': 'entropy', 'max_depth': 59, 'min_samples_split': 15, 'min_samples_leaf': 26, 'max_features': 'sqrt'}. Best is trial 15 with value: 0.9582417582417582.\n",
      "[I 2024-01-11 22:37:00,236] Trial 41 finished with value: 0.9582417582417582 and parameters: {'n_estimators': 39, 'criterion': 'entropy', 'max_depth': 54, 'min_samples_split': 16, 'min_samples_leaf': 25, 'max_features': 'log2'}. Best is trial 15 with value: 0.9582417582417582.\n",
      "[I 2024-01-11 22:37:00,656] Trial 42 finished with value: 0.9582417582417582 and parameters: {'n_estimators': 39, 'criterion': 'entropy', 'max_depth': 52, 'min_samples_split': 16, 'min_samples_leaf': 25, 'max_features': 'log2'}. Best is trial 15 with value: 0.9582417582417582.\n",
      "[I 2024-01-11 22:37:01,082] Trial 43 finished with value: 0.9582417582417582 and parameters: {'n_estimators': 40, 'criterion': 'entropy', 'max_depth': 55, 'min_samples_split': 17, 'min_samples_leaf': 27, 'max_features': 'log2'}. Best is trial 15 with value: 0.9582417582417582.\n",
      "[I 2024-01-11 22:37:01,493] Trial 44 finished with value: 0.9582417582417582 and parameters: {'n_estimators': 38, 'criterion': 'entropy', 'max_depth': 54, 'min_samples_split': 14, 'min_samples_leaf': 24, 'max_features': 'log2'}. Best is trial 15 with value: 0.9582417582417582.\n",
      "[I 2024-01-11 22:37:01,916] Trial 45 finished with value: 0.956043956043956 and parameters: {'n_estimators': 39, 'criterion': 'entropy', 'max_depth': 50, 'min_samples_split': 15, 'min_samples_leaf': 26, 'max_features': 'log2'}. Best is trial 15 with value: 0.9582417582417582.\n",
      "[I 2024-01-11 22:37:02,371] Trial 46 finished with value: 0.956043956043956 and parameters: {'n_estimators': 40, 'criterion': 'entropy', 'max_depth': 53, 'min_samples_split': 19, 'min_samples_leaf': 22, 'max_features': 'log2'}. Best is trial 15 with value: 0.9582417582417582.\n",
      "[I 2024-01-11 22:37:02,762] Trial 47 finished with value: 0.9516483516483516 and parameters: {'n_estimators': 37, 'criterion': 'entropy', 'max_depth': 58, 'min_samples_split': 20, 'min_samples_leaf': 29, 'max_features': 'log2'}. Best is trial 15 with value: 0.9582417582417582.\n",
      "[I 2024-01-11 22:37:03,196] Trial 48 finished with value: 0.945054945054945 and parameters: {'n_estimators': 38, 'criterion': 'entropy', 'max_depth': 56, 'min_samples_split': 18, 'min_samples_leaf': 17, 'max_features': 'log2'}. Best is trial 15 with value: 0.9582417582417582.\n",
      "[I 2024-01-11 22:37:03,681] Trial 49 finished with value: 0.9516483516483518 and parameters: {'n_estimators': 39, 'criterion': 'entropy', 'max_depth': 52, 'min_samples_split': 12, 'min_samples_leaf': 15, 'max_features': 'sqrt'}. Best is trial 15 with value: 0.9582417582417582.\n",
      "[I 2024-01-11 22:37:04,066] Trial 50 finished with value: 0.9538461538461538 and parameters: {'n_estimators': 35, 'criterion': 'entropy', 'max_depth': 59, 'min_samples_split': 16, 'min_samples_leaf': 23, 'max_features': 'log2'}. Best is trial 15 with value: 0.9582417582417582.\n",
      "[I 2024-01-11 22:37:04,474] Trial 51 finished with value: 0.956043956043956 and parameters: {'n_estimators': 38, 'criterion': 'entropy', 'max_depth': 56, 'min_samples_split': 17, 'min_samples_leaf': 25, 'max_features': 'log2'}. Best is trial 15 with value: 0.9582417582417582.\n",
      "[I 2024-01-11 22:37:04,906] Trial 52 finished with value: 0.9582417582417582 and parameters: {'n_estimators': 40, 'criterion': 'entropy', 'max_depth': 55, 'min_samples_split': 17, 'min_samples_leaf': 24, 'max_features': 'log2'}. Best is trial 15 with value: 0.9582417582417582.\n",
      "[I 2024-01-11 22:37:05,328] Trial 53 finished with value: 0.9582417582417582 and parameters: {'n_estimators': 39, 'criterion': 'entropy', 'max_depth': 57, 'min_samples_split': 18, 'min_samples_leaf': 24, 'max_features': 'log2'}. Best is trial 15 with value: 0.9582417582417582.\n",
      "[I 2024-01-11 22:37:05,739] Trial 54 finished with value: 0.945054945054945 and parameters: {'n_estimators': 37, 'criterion': 'entropy', 'max_depth': 54, 'min_samples_split': 15, 'min_samples_leaf': 21, 'max_features': 'log2'}. Best is trial 15 with value: 0.9582417582417582.\n",
      "[I 2024-01-11 22:37:06,193] Trial 55 finished with value: 0.9582417582417582 and parameters: {'n_estimators': 38, 'criterion': 'entropy', 'max_depth': 57, 'min_samples_split': 20, 'min_samples_leaf': 26, 'max_features': 'log2'}. Best is trial 15 with value: 0.9582417582417582.\n",
      "[I 2024-01-11 22:37:06,639] Trial 56 finished with value: 0.956043956043956 and parameters: {'n_estimators': 40, 'criterion': 'entropy', 'max_depth': 53, 'min_samples_split': 17, 'min_samples_leaf': 25, 'max_features': 'log2'}. Best is trial 15 with value: 0.9582417582417582.\n",
      "[I 2024-01-11 22:37:07,042] Trial 57 finished with value: 0.9538461538461538 and parameters: {'n_estimators': 39, 'criterion': 'gini', 'max_depth': 55, 'min_samples_split': 19, 'min_samples_leaf': 27, 'max_features': 'log2'}. Best is trial 15 with value: 0.9582417582417582.\n",
      "[I 2024-01-11 22:37:07,548] Trial 58 finished with value: 0.956043956043956 and parameters: {'n_estimators': 40, 'criterion': 'entropy', 'max_depth': 45, 'min_samples_split': 16, 'min_samples_leaf': 26, 'max_features': 'log2'}. Best is trial 15 with value: 0.9582417582417582.\n",
      "[I 2024-01-11 22:37:08,006] Trial 59 finished with value: 0.956043956043956 and parameters: {'n_estimators': 38, 'criterion': 'entropy', 'max_depth': 56, 'min_samples_split': 18, 'min_samples_leaf': 23, 'max_features': 'log2'}. Best is trial 15 with value: 0.9582417582417582.\n"
     ]
    },
    {
     "name": "stderr",
     "output_type": "stream",
     "text": [
      "[I 2024-01-11 22:37:08,399] Trial 60 finished with value: 0.9516483516483516 and parameters: {'n_estimators': 36, 'criterion': 'entropy', 'max_depth': 60, 'min_samples_split': 20, 'min_samples_leaf': 29, 'max_features': 'log2'}. Best is trial 15 with value: 0.9582417582417582.\n",
      "[I 2024-01-11 22:37:08,925] Trial 61 finished with value: 0.9582417582417582 and parameters: {'n_estimators': 39, 'criterion': 'entropy', 'max_depth': 54, 'min_samples_split': 16, 'min_samples_leaf': 25, 'max_features': 'log2'}. Best is trial 15 with value: 0.9582417582417582.\n",
      "[I 2024-01-11 22:37:09,438] Trial 62 finished with value: 0.9582417582417582 and parameters: {'n_estimators': 39, 'criterion': 'entropy', 'max_depth': 53, 'min_samples_split': 17, 'min_samples_leaf': 24, 'max_features': 'log2'}. Best is trial 15 with value: 0.9582417582417582.\n",
      "[I 2024-01-11 22:37:09,892] Trial 63 finished with value: 0.9582417582417582 and parameters: {'n_estimators': 38, 'criterion': 'entropy', 'max_depth': 54, 'min_samples_split': 16, 'min_samples_leaf': 24, 'max_features': 'log2'}. Best is trial 15 with value: 0.9582417582417582.\n",
      "[I 2024-01-11 22:37:10,346] Trial 64 finished with value: 0.956043956043956 and parameters: {'n_estimators': 40, 'criterion': 'entropy', 'max_depth': 55, 'min_samples_split': 17, 'min_samples_leaf': 25, 'max_features': 'log2'}. Best is trial 15 with value: 0.9582417582417582.\n",
      "[I 2024-01-11 22:37:10,734] Trial 65 finished with value: 0.9538461538461538 and parameters: {'n_estimators': 37, 'criterion': 'gini', 'max_depth': 52, 'min_samples_split': 15, 'min_samples_leaf': 27, 'max_features': 'log2'}. Best is trial 15 with value: 0.9582417582417582.\n",
      "[I 2024-01-11 22:37:11,204] Trial 66 finished with value: 0.945054945054945 and parameters: {'n_estimators': 39, 'criterion': 'entropy', 'max_depth': 51, 'min_samples_split': 16, 'min_samples_leaf': 22, 'max_features': 'sqrt'}. Best is trial 15 with value: 0.9582417582417582.\n",
      "[I 2024-01-11 22:37:11,623] Trial 67 finished with value: 0.956043956043956 and parameters: {'n_estimators': 38, 'criterion': 'entropy', 'max_depth': 54, 'min_samples_split': 19, 'min_samples_leaf': 25, 'max_features': 'log2'}. Best is trial 15 with value: 0.9582417582417582.\n",
      "[I 2024-01-11 22:37:12,053] Trial 68 finished with value: 0.9582417582417582 and parameters: {'n_estimators': 40, 'criterion': 'entropy', 'max_depth': 57, 'min_samples_split': 18, 'min_samples_leaf': 24, 'max_features': 'log2'}. Best is trial 15 with value: 0.9582417582417582.\n",
      "[I 2024-01-11 22:37:12,463] Trial 69 finished with value: 0.9538461538461538 and parameters: {'n_estimators': 39, 'criterion': 'entropy', 'max_depth': 53, 'min_samples_split': 15, 'min_samples_leaf': 28, 'max_features': 'log2'}. Best is trial 15 with value: 0.9582417582417582.\n",
      "[I 2024-01-11 22:37:12,824] Trial 70 finished with value: 0.9538461538461538 and parameters: {'n_estimators': 34, 'criterion': 'gini', 'max_depth': 56, 'min_samples_split': 17, 'min_samples_leaf': 26, 'max_features': 'log2'}. Best is trial 15 with value: 0.9582417582417582.\n",
      "[I 2024-01-11 22:37:13,244] Trial 71 finished with value: 0.9582417582417582 and parameters: {'n_estimators': 39, 'criterion': 'entropy', 'max_depth': 52, 'min_samples_split': 16, 'min_samples_leaf': 25, 'max_features': 'log2'}. Best is trial 15 with value: 0.9582417582417582.\n",
      "[I 2024-01-11 22:37:13,681] Trial 72 finished with value: 0.956043956043956 and parameters: {'n_estimators': 40, 'criterion': 'entropy', 'max_depth': 52, 'min_samples_split': 16, 'min_samples_leaf': 23, 'max_features': 'log2'}. Best is trial 15 with value: 0.9582417582417582.\n",
      "[I 2024-01-11 22:37:14,102] Trial 73 finished with value: 0.9582417582417582 and parameters: {'n_estimators': 39, 'criterion': 'entropy', 'max_depth': 50, 'min_samples_split': 15, 'min_samples_leaf': 25, 'max_features': 'log2'}. Best is trial 15 with value: 0.9582417582417582.\n",
      "[I 2024-01-11 22:37:14,498] Trial 74 finished with value: 0.9538461538461538 and parameters: {'n_estimators': 37, 'criterion': 'entropy', 'max_depth': 55, 'min_samples_split': 16, 'min_samples_leaf': 26, 'max_features': 'log2'}. Best is trial 15 with value: 0.9582417582417582.\n",
      "[I 2024-01-11 22:37:14,921] Trial 75 finished with value: 0.9582417582417582 and parameters: {'n_estimators': 39, 'criterion': 'entropy', 'max_depth': 53, 'min_samples_split': 17, 'min_samples_leaf': 24, 'max_features': 'log2'}. Best is trial 15 with value: 0.9582417582417582.\n",
      "[I 2024-01-11 22:37:15,355] Trial 76 finished with value: 0.9472527472527472 and parameters: {'n_estimators': 38, 'criterion': 'entropy', 'max_depth': 51, 'min_samples_split': 14, 'min_samples_leaf': 27, 'max_features': 'sqrt'}. Best is trial 15 with value: 0.9582417582417582.\n",
      "[I 2024-01-11 22:37:15,724] Trial 77 finished with value: 0.9516483516483516 and parameters: {'n_estimators': 33, 'criterion': 'entropy', 'max_depth': 54, 'min_samples_split': 18, 'min_samples_leaf': 23, 'max_features': 'log2'}. Best is trial 15 with value: 0.9582417582417582.\n",
      "[I 2024-01-11 22:37:16,153] Trial 78 finished with value: 0.956043956043956 and parameters: {'n_estimators': 40, 'criterion': 'entropy', 'max_depth': 58, 'min_samples_split': 16, 'min_samples_leaf': 25, 'max_features': 'log2'}. Best is trial 15 with value: 0.9582417582417582.\n",
      "[I 2024-01-11 22:37:16,561] Trial 79 finished with value: 0.9582417582417582 and parameters: {'n_estimators': 38, 'criterion': 'entropy', 'max_depth': 59, 'min_samples_split': 20, 'min_samples_leaf': 26, 'max_features': 'log2'}. Best is trial 15 with value: 0.9582417582417582.\n",
      "[I 2024-01-11 22:37:16,983] Trial 80 finished with value: 0.9538461538461538 and parameters: {'n_estimators': 40, 'criterion': 'entropy', 'max_depth': 52, 'min_samples_split': 17, 'min_samples_leaf': 28, 'max_features': 'log2'}. Best is trial 15 with value: 0.9582417582417582.\n",
      "[I 2024-01-11 22:37:17,409] Trial 81 finished with value: 0.9582417582417582 and parameters: {'n_estimators': 40, 'criterion': 'entropy', 'max_depth': 55, 'min_samples_split': 17, 'min_samples_leaf': 27, 'max_features': 'log2'}. Best is trial 15 with value: 0.9582417582417582.\n",
      "[I 2024-01-11 22:37:17,842] Trial 82 finished with value: 0.956043956043956 and parameters: {'n_estimators': 39, 'criterion': 'entropy', 'max_depth': 54, 'min_samples_split': 17, 'min_samples_leaf': 26, 'max_features': 'log2'}. Best is trial 15 with value: 0.9582417582417582.\n",
      "[I 2024-01-11 22:37:18,308] Trial 83 finished with value: 0.9538461538461538 and parameters: {'n_estimators': 39, 'criterion': 'entropy', 'max_depth': 56, 'min_samples_split': 15, 'min_samples_leaf': 27, 'max_features': 'log2'}. Best is trial 15 with value: 0.9582417582417582.\n",
      "[I 2024-01-11 22:37:18,742] Trial 84 finished with value: 0.956043956043956 and parameters: {'n_estimators': 40, 'criterion': 'entropy', 'max_depth': 53, 'min_samples_split': 18, 'min_samples_leaf': 25, 'max_features': 'log2'}. Best is trial 15 with value: 0.9582417582417582.\n",
      "[I 2024-01-11 22:37:19,159] Trial 85 finished with value: 0.9582417582417582 and parameters: {'n_estimators': 38, 'criterion': 'entropy', 'max_depth': 55, 'min_samples_split': 16, 'min_samples_leaf': 24, 'max_features': 'log2'}. Best is trial 15 with value: 0.9582417582417582.\n",
      "[I 2024-01-11 22:37:19,626] Trial 86 finished with value: 0.956043956043956 and parameters: {'n_estimators': 40, 'criterion': 'entropy', 'max_depth': 53, 'min_samples_split': 16, 'min_samples_leaf': 23, 'max_features': 'log2'}. Best is trial 15 with value: 0.9582417582417582.\n",
      "[I 2024-01-11 22:37:19,982] Trial 87 finished with value: 0.9472527472527472 and parameters: {'n_estimators': 30, 'criterion': 'gini', 'max_depth': 54, 'min_samples_split': 19, 'min_samples_leaf': 26, 'max_features': 'sqrt'}. Best is trial 15 with value: 0.9582417582417582.\n",
      "[I 2024-01-11 22:37:20,447] Trial 88 finished with value: 0.9582417582417582 and parameters: {'n_estimators': 39, 'criterion': 'entropy', 'max_depth': 55, 'min_samples_split': 17, 'min_samples_leaf': 24, 'max_features': 'log2'}. Best is trial 15 with value: 0.9582417582417582.\n",
      "[I 2024-01-11 22:37:20,869] Trial 89 finished with value: 0.956043956043956 and parameters: {'n_estimators': 38, 'criterion': 'entropy', 'max_depth': 54, 'min_samples_split': 20, 'min_samples_leaf': 25, 'max_features': 'log2'}. Best is trial 15 with value: 0.9582417582417582.\n"
     ]
    },
    {
     "name": "stderr",
     "output_type": "stream",
     "text": [
      "[I 2024-01-11 22:37:21,302] Trial 90 finished with value: 0.9516483516483516 and parameters: {'n_estimators': 39, 'criterion': 'entropy', 'max_depth': 53, 'min_samples_split': 17, 'min_samples_leaf': 29, 'max_features': 'log2'}. Best is trial 15 with value: 0.9582417582417582.\n",
      "[I 2024-01-11 22:37:21,717] Trial 91 finished with value: 0.956043956043956 and parameters: {'n_estimators': 38, 'criterion': 'entropy', 'max_depth': 54, 'min_samples_split': 14, 'min_samples_leaf': 25, 'max_features': 'log2'}. Best is trial 15 with value: 0.9582417582417582.\n",
      "[I 2024-01-11 22:37:22,130] Trial 92 finished with value: 0.956043956043956 and parameters: {'n_estimators': 37, 'criterion': 'entropy', 'max_depth': 56, 'min_samples_split': 13, 'min_samples_leaf': 24, 'max_features': 'log2'}. Best is trial 15 with value: 0.9582417582417582.\n",
      "[I 2024-01-11 22:37:22,607] Trial 93 finished with value: 0.956043956043956 and parameters: {'n_estimators': 40, 'criterion': 'entropy', 'max_depth': 55, 'min_samples_split': 14, 'min_samples_leaf': 22, 'max_features': 'log2'}. Best is trial 15 with value: 0.9582417582417582.\n",
      "[I 2024-01-11 22:37:23,032] Trial 94 finished with value: 0.9582417582417582 and parameters: {'n_estimators': 39, 'criterion': 'entropy', 'max_depth': 54, 'min_samples_split': 15, 'min_samples_leaf': 24, 'max_features': 'log2'}. Best is trial 15 with value: 0.9582417582417582.\n",
      "[I 2024-01-11 22:37:23,477] Trial 95 finished with value: 0.956043956043956 and parameters: {'n_estimators': 38, 'criterion': 'entropy', 'max_depth': 53, 'min_samples_split': 11, 'min_samples_leaf': 23, 'max_features': 'log2'}. Best is trial 15 with value: 0.9582417582417582.\n",
      "[I 2024-01-11 22:37:23,916] Trial 96 finished with value: 0.9582417582417582 and parameters: {'n_estimators': 39, 'criterion': 'entropy', 'max_depth': 55, 'min_samples_split': 16, 'min_samples_leaf': 25, 'max_features': 'log2'}. Best is trial 15 with value: 0.9582417582417582.\n",
      "[I 2024-01-11 22:37:24,362] Trial 97 finished with value: 0.956043956043956 and parameters: {'n_estimators': 40, 'criterion': 'entropy', 'max_depth': 54, 'min_samples_split': 14, 'min_samples_leaf': 26, 'max_features': 'log2'}. Best is trial 15 with value: 0.9582417582417582.\n",
      "[I 2024-01-11 22:37:24,805] Trial 98 finished with value: 0.9538461538461538 and parameters: {'n_estimators': 39, 'criterion': 'entropy', 'max_depth': 52, 'min_samples_split': 18, 'min_samples_leaf': 27, 'max_features': 'log2'}. Best is trial 15 with value: 0.9582417582417582.\n",
      "[I 2024-01-11 22:37:25,236] Trial 99 finished with value: 0.9582417582417582 and parameters: {'n_estimators': 38, 'criterion': 'entropy', 'max_depth': 55, 'min_samples_split': 12, 'min_samples_leaf': 24, 'max_features': 'log2'}. Best is trial 15 with value: 0.9582417582417582.\n"
     ]
    },
    {
     "name": "stdout",
     "output_type": "stream",
     "text": [
      "--- 41.60099816322327 секунд ---\n",
      "Лучшие гиперпараметры: {'n_estimators': 40, 'criterion': 'entropy', 'max_depth': 53, 'min_samples_split': 20, 'min_samples_leaf': 27, 'max_features': 'log2'}\n"
     ]
    }
   ],
   "source": [
    "#перебор гиперпараметров с использованием байесовской оптимизации\n",
    "import optuna\n",
    "from sklearn.ensemble import RandomForestClassifier\n",
    "from sklearn.model_selection import cross_val_score\n",
    "from sklearn.datasets import load_iris\n",
    "\n",
    "def objective(trial):\n",
    "    n_estimators = trial.suggest_int('n_estimators', 26, 40)\n",
    "    criterion = trial.suggest_categorical('criterion',  ['gini', 'entropy'])\n",
    "    max_depth = trial.suggest_int('max_depth', 45,  60)\n",
    "    min_samples_split = trial.suggest_int('min_samples_split',10,  20)\n",
    "    min_samples_leaf = trial.suggest_int('min_samples_leaf', 15, 30)\n",
    "    max_features = trial.suggest_categorical('max_features', ['sqrt', 'log2'])\n",
    "    model = RandomForestClassifier(\n",
    "        n_estimators=n_estimators,\n",
    "        criterion=criterion,\n",
    "        max_depth=max_depth,\n",
    "        min_samples_split=min_samples_split,\n",
    "        min_samples_leaf=min_samples_leaf,\n",
    "        max_features=max_features,\n",
    "        random_state=42\n",
    "    )\n",
    "    score = cross_val_score(model, X_train, y_train, cv=5, scoring='accuracy').mean()\n",
    "    return score\n",
    "\n",
    "study = optuna.create_study(direction='maximize')\n",
    "start_time = time.time()\n",
    "study.optimize(objective, n_trials=100)\n",
    "print(\"--- %s секунд ---\" % (time.time() - start_time))\n",
    "best_params = study.best_params\n",
    "print(\"Лучшие гиперпараметры:\", best_params)"
   ]
  },
  {
   "cell_type": "code",
   "execution_count": 27,
   "id": "ebbbad80",
   "metadata": {},
   "outputs": [
    {
     "name": "stdout",
     "output_type": "stream",
     "text": [
      "0.9582417582417582\n"
     ]
    }
   ],
   "source": [
    "print(study.best_value)"
   ]
  },
  {
   "cell_type": "code",
   "execution_count": null,
   "id": "099503d3",
   "metadata": {},
   "outputs": [],
   "source": [
    "#скорость работы была лучше у случайного поиска, хотя у байесовской оптимизайии совсем немного медленнее, \n",
    "#при этом наилучшее качество модели совпадает у случайного поиска и поиска по сетке. Такая хорошая работа Random Search\n",
    "#скорее всего обусловлена небольшой сеткой гиперпараметров, при более подробном переборе качество должно быть лучше у Grid Search"
   ]
  }
 ],
 "metadata": {
  "kernelspec": {
   "display_name": "Python 3 (ipykernel)",
   "language": "python",
   "name": "python3"
  },
  "language_info": {
   "codemirror_mode": {
    "name": "ipython",
    "version": 3
   },
   "file_extension": ".py",
   "mimetype": "text/x-python",
   "name": "python",
   "nbconvert_exporter": "python",
   "pygments_lexer": "ipython3",
   "version": "3.9.12"
  }
 },
 "nbformat": 4,
 "nbformat_minor": 5
}
